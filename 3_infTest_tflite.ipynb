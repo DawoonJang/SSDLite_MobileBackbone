{
 "cells": [
  {
   "cell_type": "code",
   "execution_count": null,
   "metadata": {},
   "outputs": [],
   "source": [
    "import tensorflow.lite as tflite\n",
    "\n",
    "import cv2\n",
    "import os\n",
    "import numpy as np\n",
    "import matplotlib.pyplot as plt\n",
    "import tensorflow as tf\n",
    "\n",
    "import tensorflow_datasets as tfds\n",
    "from time import perf_counter\n",
    "\n",
    "os.environ[\"CUDA_VISIBLE_DEVICES\"] = \"-1\"\n"
   ]
  },
  {
   "cell_type": "code",
   "execution_count": null,
   "metadata": {},
   "outputs": [],
   "source": [
    "from model.ModelBuilder import ModelBuilder\n",
    "import json\n",
    "import tensorflow as tf\n",
    "\n",
    "######################################### MODEL\n",
    "modelName = \"MobileNetV3_PFH_SSD\"\n",
    "\n",
    "model_dir = \"checkpoints/\"\n",
    "modelPart = modelName.split(\"_\")\n",
    "\n",
    "with open(os.path.join(\"model\", \"0_Config\", modelName+\".json\"), \"r\") as config_file:\n",
    "    config = json.load(config_file)\n",
    "\n",
    "config['modelName'] = modelName\n",
    "model = ModelBuilder(config = config)\n"
   ]
  },
  {
   "cell_type": "code",
   "execution_count": null,
   "metadata": {},
   "outputs": [],
   "source": [
    "class Detector():\n",
    "    def __init__(self):\n",
    "        self._max_results = 30\n",
    "        \n",
    "        self._interpreter = tflite.Interpreter(model_path='converted_model.tflite', num_threads=4)\n",
    "        \n",
    "        input_detail = self._interpreter.get_input_details()[0]\n",
    "        self._interpreter.allocate_tensors()\n",
    "        self._model_input_size = (input_detail['shape'][1], input_detail['shape'][2])\n",
    "    \n",
    "        self._is_quantized_input = input_detail['dtype'] == np.uint8\n",
    "\n",
    "        self.scale, self.zero_point = self._interpreter.get_input_details()[0]['quantization']\n",
    "\n",
    "\n",
    "        sorted_output_indices = sorted([output['index'] for output in self._interpreter.get_output_details()])\n",
    "\n",
    "        self._output_indices = {\n",
    "            'BBOX': sorted_output_indices[0],\n",
    "            'CLASS': sorted_output_indices[1],\n",
    "            'SCORE': sorted_output_indices[2],\n",
    "            'VALIDNUM': sorted_output_indices[3], \n",
    "        }\n",
    "\n",
    "    def detect(self, input_image):\n",
    "        input_tensor = self._preprocess(input_image)\n",
    "        self._set_input_tensor(input_tensor)\n",
    "        self._interpreter.invoke()\n",
    "        return self._postprocess()\n",
    "\n",
    "    def _preprocess(self, input_image):\n",
    "        input_tensor = cv2.resize(input_image, self._model_input_size)\n",
    "        \n",
    "        if self._is_quantized_input:\n",
    "            #input_tensor = input_tensor / self.scale + self.zero_point\n",
    "            pass\n",
    "        else:\n",
    "            input_tensor = input_tensor/127.5-1\n",
    "\n",
    "        return np.expand_dims(input_tensor, axis=0)\n",
    "\n",
    "    def _set_input_tensor(self, image):\n",
    "        tensor_index = self._interpreter.get_input_details()[0]['index']\n",
    "        input_tensor = self._interpreter.tensor(tensor_index)()[0]\n",
    "        input_tensor[:, :] = image\n",
    "\n",
    "    def _get_output_tensor(self, name):\n",
    "        output_index = self._output_indices[name]\n",
    "        return np.squeeze(self._interpreter.get_tensor(output_index))\n",
    "\n",
    "    def _postprocess(self):\n",
    "        bboxes = self._get_output_tensor('BBOX')[:self._max_results, :] #max\n",
    "        cls = self._get_output_tensor('CLASS')[:self._max_results] #c\n",
    "        scores = self._get_output_tensor('SCORE')[:self._max_results] #b\n",
    "        return bboxes, cls, scores"
   ]
  },
  {
   "cell_type": "code",
   "execution_count": null,
   "metadata": {},
   "outputs": [],
   "source": [
    "[test_dataset], dataset_info = tfds.load(name=\"coco/2017\", split=[\"validation\"], with_info=True)"
   ]
  },
  {
   "cell_type": "code",
   "execution_count": null,
   "metadata": {},
   "outputs": [],
   "source": [
    "labelMap_Func = dataset_info.features[\"objects\"][\"label\"].int2str\n",
    "colors = np.random.rand(200, 3)*255\n",
    "detector = Detector()\n",
    "score_threshold = 0.5\n",
    "numPic = 10\n",
    "\n",
    "TimeBench = {'FPS_Inf':0.0}\n",
    "\n",
    "for sample in test_dataset.take(numPic):\n",
    "    plt.figure(figsize=(12,12))\n",
    "    orignal_image = sample['image'].numpy()\n",
    "    input_img = orignal_image\n",
    "    \n",
    "    ground_truth = sample['objects']['bbox']\n",
    "    \n",
    "    detection_start = perf_counter()\n",
    "    bboxes, classes, scores = detector.detect(input_img)\n",
    "    detection_end = perf_counter()\n",
    "    \n",
    "    TimeBench['FPS_Inf'] += 1/(detection_end - detection_start)\n",
    "    for bbox, cls, score in zip(bboxes, classes, scores):\n",
    "        y1, x1, y2, x2 = bbox\n",
    "        \n",
    "        if score < score_threshold:\n",
    "            break\n",
    "        x1 = int(x1*orignal_image.shape[1])\n",
    "        x2 = int(x2*orignal_image.shape[1])\n",
    "        y1 = int(y1*orignal_image.shape[0])\n",
    "        y2 = int(y2*orignal_image.shape[0])\n",
    "        _text = '{}_{:.2f}'.format(labelMap_Func(int(cls)), score)\n",
    "        #_text = '{:.2f}'.format(score)\n",
    "        cv2.rectangle(orignal_image, (x1, y1), (x2, y2), colors[int(cls)], 1)\n",
    "        cv2.putText(orignal_image, _text, (x1,y1+10), cv2.FONT_HERSHEY_COMPLEX, 0.4, colors[int(cls)], thickness=1, lineType=cv2.LINE_AA)\n",
    "\n",
    "    plt.imshow(orignal_image)\n",
    "\n",
    "TimeBench['FPS_Inf'] /= numPic"
   ]
  },
  {
   "cell_type": "code",
   "execution_count": null,
   "metadata": {},
   "outputs": [],
   "source": [
    "TimeBench"
   ]
  },
  {
   "cell_type": "code",
   "execution_count": null,
   "metadata": {},
   "outputs": [],
   "source": []
  }
 ],
 "metadata": {
  "interpreter": {
   "hash": "edd95acf9ab06b1ecf423b431b914fca015df3a9e640117d0d3acee71022bc47"
  },
  "kernelspec": {
   "display_name": "Python 3.10.0 ('w1')",
   "language": "python",
   "name": "python3"
  },
  "language_info": {
   "codemirror_mode": {
    "name": "ipython",
    "version": 3
   },
   "file_extension": ".py",
   "mimetype": "text/x-python",
   "name": "python",
   "nbconvert_exporter": "python",
   "pygments_lexer": "ipython3",
   "version": "3.10.0"
  },
  "orig_nbformat": 4
 },
 "nbformat": 4,
 "nbformat_minor": 2
}
