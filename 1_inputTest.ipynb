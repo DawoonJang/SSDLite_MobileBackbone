{
 "cells": [
  {
   "cell_type": "code",
   "execution_count": null,
   "metadata": {},
   "outputs": [],
   "source": [
    "import tensorflow as tf\n",
    "import numpy as np\n",
    "import os\n",
    "import cv2\n",
    "import json\n",
    "import matplotlib.pyplot as plt\n",
    "\n",
    "from utils_train.Datagenerator import DatasetBuilder_Pascal, DatasetBuilder_COCO_Temp"
   ]
  },
  {
   "cell_type": "code",
   "execution_count": null,
   "metadata": {},
   "outputs": [],
   "source": [
    "modelName = \"MobileNetV3_PFH_SSD\"\n",
    "    \n",
    "\n",
    "model_dir = \"checkpoints/\"\n",
    "modelPart = modelName.split(\"_\")\n",
    "\n",
    "with open(os.path.join(\"model\", \"0_Config\", modelName+\".json\"), \"r\") as config_file:\n",
    "    config = json.load(config_file)"
   ]
  },
  {
   "cell_type": "code",
   "execution_count": null,
   "metadata": {},
   "outputs": [],
   "source": []
  },
  {
   "cell_type": "code",
   "execution_count": null,
   "metadata": {},
   "outputs": [],
   "source": [
    "train_dataset = DatasetBuilder_COCO_Temp(config, mode='train')\n",
    "colors = np.random.rand(80, 3)*255\n",
    "b = 1\n",
    "\n",
    "for sample in train_dataset.dataset.take(12):\n",
    "    plt.figure(figsize=(12,12))\n",
    "    orignal_image = sample[0][b].numpy()\n",
    "    input_img = np.expand_dims(cv2.resize(orignal_image, dsize = (320, 320)), 0)\n",
    "        \n",
    "    bbox_preds = sample[1][b]\n",
    "    cls_preds = sample[2][b]\n",
    "\n",
    "\n",
    "    for bbox, cls in zip(bbox_preds, cls_preds):\n",
    "        cy, cx, h, w = bbox\n",
    "        x1 = cx - w/2\n",
    "        x2 = cx + w/2\n",
    "        y1 = cy - h/2\n",
    "        y2 = cy + h/2\n",
    "        \n",
    "        x1 = int(x1*orignal_image.shape[1])\n",
    "        x2 = int(x2*orignal_image.shape[1])\n",
    "        y1 = int(y1*orignal_image.shape[0])\n",
    "        y2 = int(y2*orignal_image.shape[0])\n",
    "        cv2.rectangle(orignal_image, (x1, y1), (x2, y2), colors[int(cls.numpy())], 1)\n",
    "\n",
    "    plt.imshow(orignal_image/255.0)"
   ]
  },
  {
   "cell_type": "code",
   "execution_count": null,
   "metadata": {},
   "outputs": [],
   "source": [
    "cls_preds"
   ]
  },
  {
   "cell_type": "code",
   "execution_count": null,
   "metadata": {},
   "outputs": [],
   "source": [
    "sample[2]"
   ]
  },
  {
   "cell_type": "code",
   "execution_count": null,
   "metadata": {},
   "outputs": [],
   "source": []
  }
 ],
 "metadata": {
  "interpreter": {
   "hash": "edd95acf9ab06b1ecf423b431b914fca015df3a9e640117d0d3acee71022bc47"
  },
  "kernelspec": {
   "display_name": "Python 3.10.0 ('w1')",
   "language": "python",
   "name": "python3"
  },
  "language_info": {
   "codemirror_mode": {
    "name": "ipython",
    "version": 3
   },
   "file_extension": ".py",
   "mimetype": "text/x-python",
   "name": "python",
   "nbconvert_exporter": "python",
   "pygments_lexer": "ipython3",
   "version": "3.10.0"
  },
  "orig_nbformat": 4
 },
 "nbformat": 4,
 "nbformat_minor": 2
}
